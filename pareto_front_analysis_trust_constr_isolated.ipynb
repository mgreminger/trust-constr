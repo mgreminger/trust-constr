{
 "cells": [
  {
   "cell_type": "code",
   "execution_count": null,
   "metadata": {
    "scrolled": false
   },
   "outputs": [],
   "source": [
    "# import libraries\n",
    "%matplotlib inline\n",
    "\n",
    "from itertools import combinations_with_replacement\n",
    "from functools import partial\n",
    "\n",
    "from math import *\n",
    "import matplotlib.pylab as plt\n",
    "import numpy as np\n",
    "from numpy.linalg import pinv\n",
    "\n",
    "import pandas as pd\n",
    "\n",
    "from scipy.optimize import minimize, NonlinearConstraint, show_options\n",
    "\n",
    "# from optimize._constraints import NonlinearConstraint, LinearConstraint\n",
    "\n",
    "# from optimize._trustregion_constr import _minimize_trustregion_constr as minimize\n",
    "# from optimize._minimize import minimize"
   ]
  },
  {
   "cell_type": "code",
   "execution_count": null,
   "metadata": {},
   "outputs": [],
   "source": [
    "data_file = 'panel_data.xlsx'\n",
    "# data_file = 'bottle_data.xlsx'\n",
    "# data_file = 'brake_rotor_data.xlsx'\n",
    "num_pareto_points = 100"
   ]
  },
  {
   "cell_type": "code",
   "execution_count": null,
   "metadata": {},
   "outputs": [],
   "source": [
    "df = pd.read_excel(data_file,header=(0,1,2,3),index_col=0)\n",
    "\n",
    "data = df.to_numpy()\n",
    "\n",
    "input_data = df.xs('input',axis=1,level='type')\n",
    "output_data = df.xs('output',axis=1,level='type')\n"
   ]
  },
  {
   "cell_type": "code",
   "execution_count": null,
   "metadata": {},
   "outputs": [],
   "source": [
    "df"
   ]
  },
  {
   "cell_type": "code",
   "execution_count": null,
   "metadata": {},
   "outputs": [],
   "source": [
    "# define input data features\n",
    "inputs = input_data.to_numpy()\n",
    "\n",
    "# define the target values\n",
    "outputs = output_data.to_numpy()"
   ]
  },
  {
   "cell_type": "code",
   "execution_count": null,
   "metadata": {},
   "outputs": [],
   "source": [
    "inputs, outputs"
   ]
  },
  {
   "cell_type": "code",
   "execution_count": null,
   "metadata": {},
   "outputs": [],
   "source": [
    "# create model\n",
    "\n",
    "def get_response_surface(inputs, outputs):\n",
    "\n",
    "    response_surfaces = []\n",
    "\n",
    "    terms = list(combinations_with_replacement(range(inputs.shape[1]), 1))\n",
    "    terms.extend(combinations_with_replacement(range(inputs.shape[1]), 2))  \n",
    "  \n",
    "    for current_output in range(outputs.shape[1]):\n",
    "        A = np.ones( (inputs.shape[0], len(terms) + 1) )\n",
    "        rhs = np.zeros( inputs.shape[0] )\n",
    "\n",
    "        for i,row in enumerate(outputs):\n",
    "            rhs[i] = row[current_output]\n",
    "            for j,term in enumerate(terms):\n",
    "                A[i,j+1] = inputs[i].take(term).prod()\n",
    "\n",
    "        response_surfaces.append(pinv(A)@rhs)\n",
    "\n",
    "    # first coefficient is the constant coefficient\n",
    "    return terms, response_surfaces\n",
    "\n",
    "\n",
    "def evaluate_response_surface(term_indices_list, rs_coefficients, x, factor=1.0, offset=0.0):\n",
    "    terms = np.ones(len(term_indices_list)+1)\n",
    "\n",
    "    for i, term_indices in enumerate(term_indices_list):\n",
    "        terms[i+1] = x.take(term_indices).prod()\n",
    "\n",
    "    return factor*(terms.dot(rs_coefficients) + offset)\n",
    "\n",
    "\n",
    "def evaluate_response_surface_grad(term_indices_list, rs_coefficients, x, factor=1.0, offset=0.0):\n",
    "\n",
    "    grad_terms = np.zeros( (len(x), len(term_indices_list)+1) )\n",
    "\n",
    "    for i, term_indices in enumerate(term_indices_list):\n",
    "        for j in range(len(x)):\n",
    "            if len(term_indices) == 1 and term_indices[0] == j:\n",
    "                grad_terms[j, i+1] = 1\n",
    "            if len(term_indices) == 2:\n",
    "                if term_indices[0] == j and term_indices[1] == j:\n",
    "                    grad_terms[j, i+1] = 2.0*x[j]\n",
    "                elif term_indices[0] == j:\n",
    "                    grad_terms[j, i+1] = x[term_indices[1]]\n",
    "                elif term_indices[1] == j:\n",
    "                    grad_terms[j, i+1] = x[term_indices[0]]\n",
    "\n",
    "\n",
    "    return factor*grad_terms.dot(rs_coefficients)\n",
    "\n",
    "terms, response_surfaces = get_response_surface(inputs, outputs)\n",
    "response_surfaces"
   ]
  },
  {
   "cell_type": "code",
   "execution_count": null,
   "metadata": {},
   "outputs": [],
   "source": [
    "# determine pareto axes and axes goals\n",
    "y_axis_df = output_data.xs('y',axis=1,level='pareto axis')\n",
    "x_axis_df = output_data.xs('x',axis=1,level='pareto axis')\n",
    "\n",
    "y_axis_label = y_axis_df.columns.get_level_values(0).values[0]\n",
    "y_axis_index = output_data.columns.get_level_values(0).get_loc(y_axis_label)\n",
    "y_axis_goal = y_axis_df.columns.get_level_values(1)\n",
    "\n",
    "x_axis_label = x_axis_df.columns.get_level_values(0).values[0]\n",
    "x_axis_index = output_data.columns.get_level_values(0).get_loc(x_axis_label)\n",
    "x_axis_goal = x_axis_df.columns.get_level_values(1)\n"
   ]
  },
  {
   "cell_type": "code",
   "execution_count": null,
   "metadata": {},
   "outputs": [],
   "source": [
    "# setup the bounds constraints for each input (use input data ranges)\n",
    "# also, add any equality constraints that have been specified for the input values by setting\n",
    "# the upper and lower bounds to be equal\n",
    "\n",
    "bounds = []\n",
    "\n",
    "for index,column in enumerate(input_data):\n",
    "    if type(column[1]) is float or type(column[1]) is int:\n",
    "        bounds.append((column[1], column[1]))\n",
    "    \n",
    "    else:\n",
    "        # inequality constraint\n",
    "    \n",
    "        lower_lim = min(input_data[column])\n",
    "        upper_lim = max(input_data[column])\n",
    "        \n",
    "        bounds.append((lower_lim, upper_lim))\n",
    "    "
   ]
  },
  {
   "cell_type": "code",
   "execution_count": null,
   "metadata": {},
   "outputs": [],
   "source": [
    "constraints = []\n",
    "\n",
    "# add equality constraints for any that are specified for the outputs\n",
    "for index,column in enumerate(output_data):\n",
    "    if type(column[1]) is float or type(column[1]) is int:\n",
    "        print(index)\n",
    "        constraints.append(NonlinearConstraint(partial(evaluate_response_surface, terms, response_surfaces[index]), \n",
    "                                               column[1], column[1],\n",
    "                                               jac=partial(evaluate_response_surface_grad, terms, \n",
    "                                                           response_surfaces[index])))"
   ]
  },
  {
   "cell_type": "code",
   "execution_count": null,
   "metadata": {},
   "outputs": [],
   "source": [
    "def objective_func(x, index, sign=1.0): \n",
    "    return evaluate_response_surface(terms, response_surfaces[index], x, factor=sign)\n",
    "\n",
    "def objective_func_grad(x, index, sign=1.0): \n",
    "    return evaluate_response_surface_grad(terms, response_surfaces[index], x, factor=sign)\n",
    "\n",
    "x_starting_point = input_data.median().to_numpy()\n",
    "\n",
    "# first, get the x pareto value lower and upper limits\n",
    "#x_max_starting_point = X[y[:,x_axis_index].argmax(),:]\n",
    "res = minimize(objective_func, x_starting_point, args=(x_axis_index,-1.0), bounds=bounds, \n",
    "               constraints=constraints, method='trust-constr', options={'disp': False})\n",
    "x_max = -res.fun\n",
    "\n",
    "#x_min_starting_point = X[y[:,x_axis_index].argmin(),:]\n",
    "res = minimize(objective_func, x_starting_point, args=(x_axis_index,1.0), bounds=bounds,\n",
    "               constraints=constraints, method='trust-constr', options={'disp': False})\n",
    "x_min = res.fun\n",
    "#pareto_starting_x = res.x\n",
    "\n",
    "pareto_points = np.linspace(x_min,x_max,num=num_pareto_points)\n",
    "\n"
   ]
  },
  {
   "cell_type": "code",
   "execution_count": null,
   "metadata": {},
   "outputs": [],
   "source": [
    "pareto_input_values = []\n",
    "\n",
    "y_axis_sign = 1 if y_axis_goal == 'min' else -1\n",
    "\n",
    "for x_value in pareto_points:\n",
    "    if x_axis_goal == 'min':\n",
    "        limits = (-np.inf, x_value)\n",
    "    else:\n",
    "        limits = (x_value, np.inf)\n",
    "        \n",
    "    current_constraint = NonlinearConstraint(partial(evaluate_response_surface, terms, \n",
    "                                                     response_surfaces[x_axis_index]), \n",
    "                                             *limits,\n",
    "                                             jac=partial(evaluate_response_surface_grad, terms, \n",
    "                                                         response_surfaces[x_axis_index]))\n",
    "    \n",
    "    res = minimize(objective_func, x_starting_point, args=(y_axis_index,y_axis_sign), bounds=bounds,\n",
    "                   constraints=constraints+[current_constraint,], \n",
    "                   jac=objective_func_grad, method='trust-constr', options={'disp': False})\n",
    "\n",
    "    #pareto_starting_x = res.x\n",
    "    \n",
    "    pareto_input_values.append(res.x)\n",
    "        \n",
    "    \n",
    "    "
   ]
  },
  {
   "cell_type": "code",
   "execution_count": null,
   "metadata": {},
   "outputs": [],
   "source": [
    "pareto_output_values = []\n",
    "for current_input in pareto_input_values:\n",
    "    current_output = []\n",
    "    for i in range(outputs.shape[1]):\n",
    "        current_output.append(evaluate_response_surface(terms, response_surfaces[i], current_input))\n",
    "\n",
    "    pareto_output_values.append(current_output)\n",
    "    \n",
    "pareto_output_values = np.array(pareto_output_values)"
   ]
  },
  {
   "cell_type": "code",
   "execution_count": null,
   "metadata": {},
   "outputs": [],
   "source": [
    "fig = plt.figure()\n",
    "\n",
    "# plot original DOE values as points\n",
    "plt.plot(outputs[:,x_axis_index],outputs[:,y_axis_index],'.')\n",
    "plt.plot(pareto_output_values[:,x_axis_index],pareto_output_values[:,y_axis_index])\n",
    "plt.xlabel(x_axis_label)\n",
    "plt.ylabel(y_axis_label)"
   ]
  },
  {
   "cell_type": "code",
   "execution_count": null,
   "metadata": {},
   "outputs": [],
   "source": []
  }
 ],
 "metadata": {
  "anaconda-cloud": {},
  "kernelspec": {
   "display_name": "Python 3",
   "language": "python",
   "name": "python3"
  },
  "language_info": {
   "codemirror_mode": {
    "name": "ipython",
    "version": 3
   },
   "file_extension": ".py",
   "mimetype": "text/x-python",
   "name": "python",
   "nbconvert_exporter": "python",
   "pygments_lexer": "ipython3",
   "version": "3.8.3"
  }
 },
 "nbformat": 4,
 "nbformat_minor": 1
}
