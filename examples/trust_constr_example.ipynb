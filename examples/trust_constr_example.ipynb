{
 "cells": [
  {
   "cell_type": "code",
   "execution_count": 1,
   "metadata": {},
   "outputs": [],
   "source": [
    "import numpy as np\n",
    "from trust_constr import minimize, NonlinearConstraint, LinearConstraint, Bounds, check_grad"
   ]
  },
  {
   "cell_type": "markdown",
   "metadata": {},
   "source": [
    "## Example 1: Nonlinear Inequality Constraint\n",
    "Example 15.1 from [1]\n",
    "\n",
    "Solve:\n",
    "$$\\min_{x,y} f(x,y)=\\frac{1}{2}(x-2)^2+\\frac{1}{2}\\left(y-\\frac{1}{2}\\right)^2$$\n",
    "Subject to:\n",
    "$$(x+1)^{-1}-y-\\frac{1}{4}\\ge0$$\n",
    "$$x\\ge0$$\n",
    "$$x\\ge0$$\n",
    "\n",
    "Solution: $$(x,y) = (1.953, 0.089)$$\n"
   ]
  },
  {
   "cell_type": "markdown",
   "metadata": {},
   "source": [
    "First solve without defining gradient (finite difference gradient will be used):"
   ]
  },
  {
   "cell_type": "code",
   "execution_count": 2,
   "metadata": {},
   "outputs": [
    {
     "name": "stdout",
     "output_type": "stream",
     "text": [
      "Solution = [1.95282327 0.08865882]\n",
      "Obtained using 42 objective function evaluations.\n"
     ]
    }
   ],
   "source": [
    "def objective(x):\n",
    "    return 0.5*(x[0]-2)**2+0.5*(x[1]-0.5)**2\n",
    "\n",
    "def ineq_constraint(x):\n",
    "    return 1/(x[0]+1)-x[1]-0.25\n",
    "\n",
    "# Use np.inf of -np.inf to define a single sided constraint\n",
    "# If there are more than one constraint, that constraints will \n",
    "# be a list containing all of the constraints\n",
    "constraints = NonlinearConstraint(ineq_constraint, 0, np.inf)\n",
    "\n",
    "# set bounds on the variables\n",
    "bounds = Bounds([0,0], [np.inf, np.inf])\n",
    "\n",
    "# define starting point for optimization\n",
    "x0 = np.array([5.0, 1.0])\n",
    "\n",
    "res = minimize(objective, x0, bounds=bounds, constraints=constraints)\n",
    "\n",
    "print(\"Solution =\", res.x)\n",
    "print(f\"Obtained using {res.nfev} objective function evaluations.\")"
   ]
  },
  {
   "cell_type": "markdown",
   "metadata": {},
   "source": [
    "Now define the gradient for objective and constraint and check gradients:"
   ]
  },
  {
   "cell_type": "code",
   "execution_count": 3,
   "metadata": {},
   "outputs": [
    {
     "name": "stdout",
     "output_type": "stream",
     "text": [
      "objective difference:  3.9742399623855506e-08\n",
      "constraint difference: 3.0021780755840055e-09\n",
      "objective difference:  1.2926677659337474e-07\n",
      "constraint difference: 3.007207191596528e-08\n",
      "objective difference:  3.9461736525381035e-08\n",
      "constraint difference: 4.605664752355132e-09\n",
      "objective difference:  4.1213255921399863e-07\n",
      "constraint difference: 1.0564694242695682e-07\n",
      "objective difference:  1.32529331705622e-07\n",
      "constraint difference: 4.336607009082505e-08\n"
     ]
    }
   ],
   "source": [
    "def objective_gradient(x):\n",
    "    return np.array([(x[0]-2), (x[1]-0.5)])\n",
    "\n",
    "def ineq_gradient(x):\n",
    "    return np.array([-1/((x[0]+1)**2), -1])\n",
    "\n",
    "# check gradients against finite difference gradient\n",
    "# use 5 random points\n",
    "for x in np.random.uniform(low=[0,0], high=[10,10], size=(5,2)):\n",
    "    print(\"objective difference: \", check_grad(objective, objective_gradient, x))\n",
    "    print(\"constraint difference:\", check_grad(ineq_constraint, ineq_gradient, x))\n",
    "\n"
   ]
  },
  {
   "cell_type": "markdown",
   "metadata": {},
   "source": [
    "Finally, minimize using the gradient functions that were just test:"
   ]
  },
  {
   "cell_type": "code",
   "execution_count": 4,
   "metadata": {},
   "outputs": [
    {
     "name": "stdout",
     "output_type": "stream",
     "text": [
      "Solution = [1.95282328 0.08865881]\n",
      "Obtained using 14 objective function evaluations.\n"
     ]
    }
   ],
   "source": [
    "constraints = NonlinearConstraint(ineq_constraint, 0, np.inf, jac=ineq_gradient)\n",
    "\n",
    "res = minimize(objective, x0, jac=objective_gradient, bounds=bounds, constraints=constraints)\n",
    "\n",
    "print(\"Solution =\", res.x)\n",
    "print(f\"Obtained using {res.nfev} objective function evaluations.\")"
   ]
  },
  {
   "cell_type": "markdown",
   "metadata": {},
   "source": [
    "## Example 2: Nonlinear Equality Constraint\n",
    "Example 15.2 from [1]\n",
    "\n",
    "Solve:\n",
    "\n",
    "$$\\min_{x,y} x^2+y^2$$\n",
    "\n",
    "Subject to:\n",
    "\n",
    "$$(x-1)^3 - y^2 = 0$$\n",
    "\n",
    "Solution:\n",
    "$$(x,y)=(1,0)$$\n",
    "\n"
   ]
  },
  {
   "cell_type": "code",
   "execution_count": 5,
   "metadata": {},
   "outputs": [
    {
     "name": "stdout",
     "output_type": "stream",
     "text": [
      "Solution = [9.99966899e-01 3.36074169e-09]\n",
      "Obtained using 181 objective function evaluations.\n"
     ]
    }
   ],
   "source": [
    "objective2 = lambda x: x[0]**2 + x[1]**2\n",
    "objective2_gradient = lambda x: np.array([2*x[0], 2*x[1]])\n",
    "\n",
    "eq_constraint = lambda x: (x[0]-1)**3 - x[1]**2\n",
    "eq_gradient = lambda x: np.array([3*(x[0]-1)**2, -2*x[1]]) \n",
    "\n",
    "# Make the upper and lower bound both zero to define an equality constraint\n",
    "constraints = NonlinearConstraint(eq_constraint, 0, 0, jac=eq_gradient) \n",
    "\n",
    "x0 = np.array([5, 2])\n",
    "\n",
    "res = minimize(objective2, x0, jac=objective2_gradient, constraints=constraints)\n",
    "\n",
    "print(\"Solution =\", res.x)\n",
    "print(f\"Obtained using {res.nfev} objective function evaluations.\")"
   ]
  },
  {
   "cell_type": "markdown",
   "metadata": {},
   "source": [
    "## Example 3: Linear Constraint\n",
    "Example 15.3 from [1]\n",
    "\n",
    "Solve:\n",
    "\n",
    "$$\\min_{\\mathbf{x}} sin(x_1+x_2)+x^2_3+\\frac{1}{3}\\left(x_4+x^4_5+\\frac{x_6}{2}\\right)$$\n",
    "\n",
    "Subject to:\n",
    "\n",
    "$$8x_1-6x_2+x_3+9x_4+4x_5=6$$\n",
    "$$3x_1+2x_2-x_4+6x_5+4x_6=-4$$\n",
    "\n",
    "Solution:\n",
    "\n",
    "$$\\mathbf{x}=[]$$"
   ]
  },
  {
   "cell_type": "code",
   "execution_count": 6,
   "metadata": {},
   "outputs": [
    {
     "name": "stderr",
     "output_type": "stream",
     "text": [
      "/home/grem/git/trust-constr/trust_constr/_hessian_update_strategy.py:176: UserWarning: delta_grad == 0.0. Check if the approximated function is linear. If the function is linear better results can be obtained by defining the Hessian as zero instead of using quasi-Newton approximations.\n",
      "  warn('delta_grad == 0.0. Check if the approximated '\n"
     ]
    },
    {
     "name": "stdout",
     "output_type": "stream",
     "text": [
      "Solution = [ 5.44748930e+06 -5.31968457e+06  2.47205015e-01 -8.38866858e+06\n",
      "  2.82151097e-01 -3.52294326e+06]\n",
      "Obtained using 7833 objective function evaluations.\n"
     ]
    },
    {
     "data": {
      "text/plain": [
       "array([ 6., -4.])"
      ]
     },
     "execution_count": 6,
     "metadata": {},
     "output_type": "execute_result"
    }
   ],
   "source": [
    "objective3 = lambda x: np.sin(x[0]+x[1]) + x[2]**2+(1/3)*(x[3]+x[4]**4+x[5]/2)\n",
    "\n",
    "# define the linear constraint matrix\n",
    "A = np.array([[8, -6, 1, 9, 4, 0],\n",
    "              [3, 2, 0, -1, 6, 4]])\n",
    "\n",
    "x0 = np.zeros(6)\n",
    "\n",
    "res = minimize(objective3, x0, constraints=LinearConstraint(A, [6,-4], [6,-4]))\n",
    "\n",
    "print(\"Solution =\", res.x)\n",
    "print(f\"Obtained using {res.nfev} objective function evaluations.\")\n",
    "\n",
    "A@res.x"
   ]
  },
  {
   "cell_type": "markdown",
   "metadata": {},
   "source": [
    "## References\n",
    "[1] Nocedal, Jorge, and Stephen J. Wright. *Numerical Optimization*. 2nd ed. Springer Series in Operations Research. New York: Springer, 2006.\n"
   ]
  },
  {
   "cell_type": "code",
   "execution_count": null,
   "metadata": {},
   "outputs": [],
   "source": []
  }
 ],
 "metadata": {
  "kernelspec": {
   "display_name": "Python 3",
   "language": "python",
   "name": "python3"
  },
  "language_info": {
   "codemirror_mode": {
    "name": "ipython",
    "version": 3
   },
   "file_extension": ".py",
   "mimetype": "text/x-python",
   "name": "python",
   "nbconvert_exporter": "python",
   "pygments_lexer": "ipython3",
   "version": "3.8.5"
  }
 },
 "nbformat": 4,
 "nbformat_minor": 4
}
