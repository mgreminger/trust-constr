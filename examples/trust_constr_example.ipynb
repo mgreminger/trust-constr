{
 "cells": [
  {
   "cell_type": "code",
   "execution_count": 1,
   "metadata": {},
   "outputs": [],
   "source": [
    "import numpy as np\n",
    "from trust_constr import minimize, NonlinearConstraint, LinearConstraint, Bounds, check_grad"
   ]
  },
  {
   "cell_type": "markdown",
   "metadata": {},
   "source": [
    "## Example 1: Nonlinear Inequality Constraint\n",
    "Example 15.1 from [1]\n",
    "\n",
    "Solve:\n",
    "$$\\min_{x,y} f(x,y)=\\frac{1}{2}(x-2)^2+\\frac{1}{2}(y-\\frac{1}{2})^2$$\n",
    "Subject to:\n",
    "$$(x+1)^{-1}-y-\\frac{1}{4}\\ge0$$\n",
    "$$x\\ge0$$\n",
    "$$x\\ge0$$\n",
    "\n",
    "Solution: $$(x,y) = (1.953, 0.089)$$\n"
   ]
  },
  {
   "cell_type": "markdown",
   "metadata": {},
   "source": [
    "First solve without defining gradient (finite difference gradient will be used):"
   ]
  },
  {
   "cell_type": "code",
   "execution_count": 2,
   "metadata": {},
   "outputs": [
    {
     "name": "stdout",
     "output_type": "stream",
     "text": [
      "Solution = [1.95282327 0.08865882]\n",
      "Obtained using 42 objctive function evaluations.\n"
     ]
    }
   ],
   "source": [
    "def objective(x):\n",
    "    return 0.5*(x[0]-2)**2+0.5*(x[1]-0.5)**2\n",
    "\n",
    "def ineq_constraint(x):\n",
    "    return 1/(x[0]+1)-x[1]-0.25\n",
    "\n",
    "constraints = NonlinearConstraint(ineq_constraint, 0, np.inf)\n",
    "bounds = Bounds([0,0], [np.inf, np.inf])\n",
    "\n",
    "x0 = np.array([5.0, 1.0])\n",
    "\n",
    "res = minimize(objective, x0, bounds=bounds, constraints=constraints)\n",
    "\n",
    "print(\"Solution =\", res.x)\n",
    "print(f\"Obtained using {res.nfev} objctive function evaluations.\")"
   ]
  },
  {
   "cell_type": "markdown",
   "metadata": {},
   "source": [
    "Now define the gradient for objective and constraint and check gradients:"
   ]
  },
  {
   "cell_type": "code",
   "execution_count": 6,
   "metadata": {},
   "outputs": [
    {
     "name": "stdout",
     "output_type": "stream",
     "text": [
      "objective difference:  4.584831317952022e-07\n",
      "constraint difference: 3.308232434523495e-09\n",
      "objective difference:  2.254821732678175e-08\n",
      "constraint difference: 2.6925162655011547e-08\n",
      "objective difference:  2.456840921345611e-08\n",
      "constraint difference: 5.281618465496907e-09\n",
      "objective difference:  8.68988845289713e-08\n",
      "constraint difference: 3.0079458535059445e-08\n",
      "objective difference:  1.0467888640396644e-07\n",
      "constraint difference: 1.0502792330280286e-08\n"
     ]
    }
   ],
   "source": [
    "def objective_gradient(x):\n",
    "    return np.array([(x[0]-2), (x[1]-0.5)])\n",
    "\n",
    "def ineq_gradient(x):\n",
    "    return np.array([-1/((x[0]+1)**2), -1])\n",
    "\n",
    "# check gradients against finite difference gradient\n",
    "# use 5 random points\n",
    "for x in np.random.uniform(low=[0,0], high=[10,10], size=(5,2)):\n",
    "    print(\"objective difference: \", check_grad(objective, objective_gradient, x))\n",
    "    print(\"constraint difference:\", check_grad(ineq_constraint, ineq_gradient, x))\n",
    "\n"
   ]
  },
  {
   "cell_type": "markdown",
   "metadata": {},
   "source": [
    "Finally, minimize using the gradient functions that were just test:"
   ]
  },
  {
   "cell_type": "code",
   "execution_count": 4,
   "metadata": {},
   "outputs": [
    {
     "name": "stdout",
     "output_type": "stream",
     "text": [
      "Solution = [1.95282328 0.08865881]\n",
      "Obtained using 14 objctive function evaluations.\n"
     ]
    }
   ],
   "source": [
    "constraints = NonlinearConstraint(ineq_constraint, 0, np.inf, jac=ineq_gradient)\n",
    "\n",
    "res = minimize(objective, x0, jac=objective_gradient, bounds=bounds, constraints=constraints)\n",
    "\n",
    "print(\"Solution =\", res.x)\n",
    "print(f\"Obtained using {res.nfev} objctive function evaluations.\")"
   ]
  },
  {
   "cell_type": "markdown",
   "metadata": {},
   "source": [
    "## Example 2: Nonlinear Equality Constraint\n"
   ]
  },
  {
   "cell_type": "code",
   "execution_count": null,
   "metadata": {},
   "outputs": [],
   "source": []
  },
  {
   "cell_type": "markdown",
   "metadata": {},
   "source": [
    "## References\n",
    "[1] Nocedal, Jorge, and Stephen J. Wright. *Numerical Optimization*. 2nd ed. Springer Series in Operations Research. New York: Springer, 2006.\n"
   ]
  },
  {
   "cell_type": "code",
   "execution_count": null,
   "metadata": {},
   "outputs": [],
   "source": []
  }
 ],
 "metadata": {
  "kernelspec": {
   "display_name": "Python 3",
   "language": "python",
   "name": "python3"
  },
  "language_info": {
   "codemirror_mode": {
    "name": "ipython",
    "version": 3
   },
   "file_extension": ".py",
   "mimetype": "text/x-python",
   "name": "python",
   "nbconvert_exporter": "python",
   "pygments_lexer": "ipython3",
   "version": "3.8.5"
  }
 },
 "nbformat": 4,
 "nbformat_minor": 4
}
